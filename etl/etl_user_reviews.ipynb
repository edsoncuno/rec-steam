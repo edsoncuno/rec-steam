{
 "cells": [
  {
   "cell_type": "markdown",
   "metadata": {},
   "source": [
    "# user_reviews"
   ]
  },
  {
   "cell_type": "code",
   "execution_count": 1,
   "metadata": {},
   "outputs": [],
   "source": [
    "from extract import jsongz\n",
    "\n",
    "#df_original = jsongz.leer_archivo(\"..\\\\data\\\\raw\\\\user_reviews.json.gz\")\n",
    "df_original = jsongz.leer_archivo(\"../data/raw/user_reviews.json.gz\")"
   ]
  },
  {
   "cell_type": "code",
   "execution_count": 2,
   "metadata": {},
   "outputs": [
    {
     "data": {
      "text/html": [
       "<div>\n",
       "<style scoped>\n",
       "    .dataframe tbody tr th:only-of-type {\n",
       "        vertical-align: middle;\n",
       "    }\n",
       "\n",
       "    .dataframe tbody tr th {\n",
       "        vertical-align: top;\n",
       "    }\n",
       "\n",
       "    .dataframe thead th {\n",
       "        text-align: right;\n",
       "    }\n",
       "</style>\n",
       "<table border=\"1\" class=\"dataframe\">\n",
       "  <thead>\n",
       "    <tr style=\"text-align: right;\">\n",
       "      <th></th>\n",
       "      <th>user_id</th>\n",
       "      <th>user_url</th>\n",
       "      <th>reviews</th>\n",
       "    </tr>\n",
       "  </thead>\n",
       "  <tbody>\n",
       "    <tr>\n",
       "      <th>0</th>\n",
       "      <td>76561197970982479</td>\n",
       "      <td>http://steamcommunity.com/profiles/76561197970...</td>\n",
       "      <td>[{'funny': '', 'posted': 'Posted November 5, 2...</td>\n",
       "    </tr>\n",
       "    <tr>\n",
       "      <th>1</th>\n",
       "      <td>js41637</td>\n",
       "      <td>http://steamcommunity.com/id/js41637</td>\n",
       "      <td>[{'funny': '', 'posted': 'Posted June 24, 2014...</td>\n",
       "    </tr>\n",
       "    <tr>\n",
       "      <th>2</th>\n",
       "      <td>evcentric</td>\n",
       "      <td>http://steamcommunity.com/id/evcentric</td>\n",
       "      <td>[{'funny': '', 'posted': 'Posted February 3.',...</td>\n",
       "    </tr>\n",
       "    <tr>\n",
       "      <th>3</th>\n",
       "      <td>doctr</td>\n",
       "      <td>http://steamcommunity.com/id/doctr</td>\n",
       "      <td>[{'funny': '', 'posted': 'Posted October 14, 2...</td>\n",
       "    </tr>\n",
       "    <tr>\n",
       "      <th>4</th>\n",
       "      <td>maplemage</td>\n",
       "      <td>http://steamcommunity.com/id/maplemage</td>\n",
       "      <td>[{'funny': '3 people found this review funny',...</td>\n",
       "    </tr>\n",
       "  </tbody>\n",
       "</table>\n",
       "</div>"
      ],
      "text/plain": [
       "             user_id                                           user_url  \\\n",
       "0  76561197970982479  http://steamcommunity.com/profiles/76561197970...   \n",
       "1            js41637               http://steamcommunity.com/id/js41637   \n",
       "2          evcentric             http://steamcommunity.com/id/evcentric   \n",
       "3              doctr                 http://steamcommunity.com/id/doctr   \n",
       "4          maplemage             http://steamcommunity.com/id/maplemage   \n",
       "\n",
       "                                             reviews  \n",
       "0  [{'funny': '', 'posted': 'Posted November 5, 2...  \n",
       "1  [{'funny': '', 'posted': 'Posted June 24, 2014...  \n",
       "2  [{'funny': '', 'posted': 'Posted February 3.',...  \n",
       "3  [{'funny': '', 'posted': 'Posted October 14, 2...  \n",
       "4  [{'funny': '3 people found this review funny',...  "
      ]
     },
     "execution_count": 2,
     "metadata": {},
     "output_type": "execute_result"
    }
   ],
   "source": [
    "df = df_original.copy()\n",
    "df.head()"
   ]
  },
  {
   "cell_type": "code",
   "execution_count": 4,
   "metadata": {},
   "outputs": [
    {
     "data": {
      "text/plain": [
       "25799"
      ]
     },
     "execution_count": 4,
     "metadata": {},
     "output_type": "execute_result"
    }
   ],
   "source": [
    "df.shape[0]"
   ]
  },
  {
   "cell_type": "markdown",
   "metadata": {},
   "source": [
    "El dataframe contiene: 25799 registros"
   ]
  },
  {
   "cell_type": "markdown",
   "metadata": {},
   "source": [
    "Evaluar los tipos de datos utilizados en las columnas del dataframe"
   ]
  },
  {
   "cell_type": "code",
   "execution_count": 5,
   "metadata": {},
   "outputs": [
    {
     "name": "stdout",
     "output_type": "stream",
     "text": [
      "user_id - {<class 'str'>}\n",
      "user_url - {<class 'str'>}\n",
      "reviews - {<class 'list'>}\n"
     ]
    }
   ],
   "source": [
    "from transform import info\n",
    "\n",
    "info.mostrar_info_key_types(df)"
   ]
  },
  {
   "cell_type": "markdown",
   "metadata": {},
   "source": [
    "Recordar que las columnas que contiene valores iguales a \"float\", podria indica que contine valores nulos.\n",
    "\n",
    "La columna \"reviews\" utiliza datos de tipo \"list\". Hay que desanidarlo."
   ]
  },
  {
   "cell_type": "code",
   "execution_count": 6,
   "metadata": {},
   "outputs": [
    {
     "data": {
      "text/html": [
       "<div>\n",
       "<style scoped>\n",
       "    .dataframe tbody tr th:only-of-type {\n",
       "        vertical-align: middle;\n",
       "    }\n",
       "\n",
       "    .dataframe tbody tr th {\n",
       "        vertical-align: top;\n",
       "    }\n",
       "\n",
       "    .dataframe thead th {\n",
       "        text-align: right;\n",
       "    }\n",
       "</style>\n",
       "<table border=\"1\" class=\"dataframe\">\n",
       "  <thead>\n",
       "    <tr style=\"text-align: right;\">\n",
       "      <th></th>\n",
       "      <th>user_id</th>\n",
       "      <th>user_url</th>\n",
       "      <th>reviews</th>\n",
       "    </tr>\n",
       "  </thead>\n",
       "  <tbody>\n",
       "    <tr>\n",
       "      <th>0</th>\n",
       "      <td>76561197970982479</td>\n",
       "      <td>http://steamcommunity.com/profiles/76561197970...</td>\n",
       "      <td>{'funny': '', 'posted': 'Posted November 5, 20...</td>\n",
       "    </tr>\n",
       "    <tr>\n",
       "      <th>1</th>\n",
       "      <td>76561197970982479</td>\n",
       "      <td>http://steamcommunity.com/profiles/76561197970...</td>\n",
       "      <td>{'funny': '', 'posted': 'Posted July 15, 2011....</td>\n",
       "    </tr>\n",
       "    <tr>\n",
       "      <th>2</th>\n",
       "      <td>76561197970982479</td>\n",
       "      <td>http://steamcommunity.com/profiles/76561197970...</td>\n",
       "      <td>{'funny': '', 'posted': 'Posted April 21, 2011...</td>\n",
       "    </tr>\n",
       "    <tr>\n",
       "      <th>3</th>\n",
       "      <td>js41637</td>\n",
       "      <td>http://steamcommunity.com/id/js41637</td>\n",
       "      <td>{'funny': '', 'posted': 'Posted June 24, 2014....</td>\n",
       "    </tr>\n",
       "    <tr>\n",
       "      <th>4</th>\n",
       "      <td>js41637</td>\n",
       "      <td>http://steamcommunity.com/id/js41637</td>\n",
       "      <td>{'funny': '', 'posted': 'Posted September 8, 2...</td>\n",
       "    </tr>\n",
       "  </tbody>\n",
       "</table>\n",
       "</div>"
      ],
      "text/plain": [
       "             user_id                                           user_url  \\\n",
       "0  76561197970982479  http://steamcommunity.com/profiles/76561197970...   \n",
       "1  76561197970982479  http://steamcommunity.com/profiles/76561197970...   \n",
       "2  76561197970982479  http://steamcommunity.com/profiles/76561197970...   \n",
       "3            js41637               http://steamcommunity.com/id/js41637   \n",
       "4            js41637               http://steamcommunity.com/id/js41637   \n",
       "\n",
       "                                             reviews  \n",
       "0  {'funny': '', 'posted': 'Posted November 5, 20...  \n",
       "1  {'funny': '', 'posted': 'Posted July 15, 2011....  \n",
       "2  {'funny': '', 'posted': 'Posted April 21, 2011...  \n",
       "3  {'funny': '', 'posted': 'Posted June 24, 2014....  \n",
       "4  {'funny': '', 'posted': 'Posted September 8, 2...  "
      ]
     },
     "execution_count": 6,
     "metadata": {},
     "output_type": "execute_result"
    }
   ],
   "source": [
    "from transform import normalizar\n",
    "\n",
    "df = normalizar.desanidar_dataframe(df, [\"reviews\"])\n",
    "\n",
    "df.head()"
   ]
  },
  {
   "cell_type": "markdown",
   "metadata": {},
   "source": [
    "Volver a revisar los tipos de datos, para asegurar que no se utilizen estructuras de datos"
   ]
  },
  {
   "cell_type": "code",
   "execution_count": 7,
   "metadata": {},
   "outputs": [
    {
     "name": "stdout",
     "output_type": "stream",
     "text": [
      "user_id - {<class 'str'>}\n",
      "user_url - {<class 'str'>}\n",
      "reviews - {<class 'float'>, <class 'dict'>}\n"
     ]
    }
   ],
   "source": [
    "from transform import info\n",
    "\n",
    "info.mostrar_info_key_types(df)"
   ]
  },
  {
   "cell_type": "markdown",
   "metadata": {},
   "source": [
    "Ahora, la columna \"reviews\" contiene valores de tipo \"dict\". Hay que expandirlo."
   ]
  },
  {
   "cell_type": "code",
   "execution_count": 8,
   "metadata": {},
   "outputs": [
    {
     "data": {
      "text/html": [
       "<div>\n",
       "<style scoped>\n",
       "    .dataframe tbody tr th:only-of-type {\n",
       "        vertical-align: middle;\n",
       "    }\n",
       "\n",
       "    .dataframe tbody tr th {\n",
       "        vertical-align: top;\n",
       "    }\n",
       "\n",
       "    .dataframe thead th {\n",
       "        text-align: right;\n",
       "    }\n",
       "</style>\n",
       "<table border=\"1\" class=\"dataframe\">\n",
       "  <thead>\n",
       "    <tr style=\"text-align: right;\">\n",
       "      <th></th>\n",
       "      <th>user_id</th>\n",
       "      <th>user_url</th>\n",
       "      <th>funny</th>\n",
       "      <th>posted</th>\n",
       "      <th>last_edited</th>\n",
       "      <th>item_id</th>\n",
       "      <th>helpful</th>\n",
       "      <th>recommend</th>\n",
       "      <th>review</th>\n",
       "    </tr>\n",
       "  </thead>\n",
       "  <tbody>\n",
       "    <tr>\n",
       "      <th>0</th>\n",
       "      <td>76561197970982479</td>\n",
       "      <td>http://steamcommunity.com/profiles/76561197970...</td>\n",
       "      <td></td>\n",
       "      <td>Posted November 5, 2011.</td>\n",
       "      <td></td>\n",
       "      <td>1250</td>\n",
       "      <td>No ratings yet</td>\n",
       "      <td>True</td>\n",
       "      <td>Simple yet with great replayability. In my opi...</td>\n",
       "    </tr>\n",
       "    <tr>\n",
       "      <th>1</th>\n",
       "      <td>76561197970982479</td>\n",
       "      <td>http://steamcommunity.com/profiles/76561197970...</td>\n",
       "      <td></td>\n",
       "      <td>Posted July 15, 2011.</td>\n",
       "      <td></td>\n",
       "      <td>22200</td>\n",
       "      <td>No ratings yet</td>\n",
       "      <td>True</td>\n",
       "      <td>It's unique and worth a playthrough.</td>\n",
       "    </tr>\n",
       "    <tr>\n",
       "      <th>2</th>\n",
       "      <td>76561197970982479</td>\n",
       "      <td>http://steamcommunity.com/profiles/76561197970...</td>\n",
       "      <td></td>\n",
       "      <td>Posted April 21, 2011.</td>\n",
       "      <td></td>\n",
       "      <td>43110</td>\n",
       "      <td>No ratings yet</td>\n",
       "      <td>True</td>\n",
       "      <td>Great atmosphere. The gunplay can be a bit chu...</td>\n",
       "    </tr>\n",
       "    <tr>\n",
       "      <th>3</th>\n",
       "      <td>js41637</td>\n",
       "      <td>http://steamcommunity.com/id/js41637</td>\n",
       "      <td></td>\n",
       "      <td>Posted June 24, 2014.</td>\n",
       "      <td></td>\n",
       "      <td>251610</td>\n",
       "      <td>15 of 20 people (75%) found this review helpful</td>\n",
       "      <td>True</td>\n",
       "      <td>I know what you think when you see this title ...</td>\n",
       "    </tr>\n",
       "    <tr>\n",
       "      <th>4</th>\n",
       "      <td>js41637</td>\n",
       "      <td>http://steamcommunity.com/id/js41637</td>\n",
       "      <td></td>\n",
       "      <td>Posted September 8, 2013.</td>\n",
       "      <td></td>\n",
       "      <td>227300</td>\n",
       "      <td>0 of 1 people (0%) found this review helpful</td>\n",
       "      <td>True</td>\n",
       "      <td>For a simple (it's actually not all that simpl...</td>\n",
       "    </tr>\n",
       "  </tbody>\n",
       "</table>\n",
       "</div>"
      ],
      "text/plain": [
       "             user_id                                           user_url funny  \\\n",
       "0  76561197970982479  http://steamcommunity.com/profiles/76561197970...         \n",
       "1  76561197970982479  http://steamcommunity.com/profiles/76561197970...         \n",
       "2  76561197970982479  http://steamcommunity.com/profiles/76561197970...         \n",
       "3            js41637               http://steamcommunity.com/id/js41637         \n",
       "4            js41637               http://steamcommunity.com/id/js41637         \n",
       "\n",
       "                      posted last_edited item_id  \\\n",
       "0   Posted November 5, 2011.                1250   \n",
       "1      Posted July 15, 2011.               22200   \n",
       "2     Posted April 21, 2011.               43110   \n",
       "3      Posted June 24, 2014.              251610   \n",
       "4  Posted September 8, 2013.              227300   \n",
       "\n",
       "                                           helpful recommend  \\\n",
       "0                                   No ratings yet      True   \n",
       "1                                   No ratings yet      True   \n",
       "2                                   No ratings yet      True   \n",
       "3  15 of 20 people (75%) found this review helpful      True   \n",
       "4     0 of 1 people (0%) found this review helpful      True   \n",
       "\n",
       "                                              review  \n",
       "0  Simple yet with great replayability. In my opi...  \n",
       "1               It's unique and worth a playthrough.  \n",
       "2  Great atmosphere. The gunplay can be a bit chu...  \n",
       "3  I know what you think when you see this title ...  \n",
       "4  For a simple (it's actually not all that simpl...  "
      ]
     },
     "execution_count": 8,
     "metadata": {},
     "output_type": "execute_result"
    }
   ],
   "source": [
    "from transform import normalizar\n",
    "\n",
    "df = normalizar.expandir_columna(df, \"reviews\")\n",
    "\n",
    "df.head()"
   ]
  },
  {
   "cell_type": "markdown",
   "metadata": {},
   "source": [
    "Volver a revisar los tipos de datos, para asegurar que no se utilizen estructuras de datos"
   ]
  },
  {
   "cell_type": "code",
   "execution_count": 9,
   "metadata": {},
   "outputs": [
    {
     "name": "stdout",
     "output_type": "stream",
     "text": [
      "user_id - {<class 'str'>}\n",
      "user_url - {<class 'str'>}\n",
      "funny - {<class 'str'>, <class 'float'>}\n",
      "posted - {<class 'str'>, <class 'float'>}\n",
      "last_edited - {<class 'str'>, <class 'float'>}\n",
      "item_id - {<class 'str'>, <class 'float'>}\n",
      "helpful - {<class 'str'>, <class 'float'>}\n",
      "recommend - {<class 'bool'>, <class 'float'>}\n",
      "review - {<class 'str'>, <class 'float'>}\n"
     ]
    }
   ],
   "source": [
    "from transform import info\n",
    "\n",
    "info.mostrar_info_key_types(df)"
   ]
  },
  {
   "cell_type": "markdown",
   "metadata": {},
   "source": [
    "Se elimina las columnas que no son relevantes para los objetivos del proyecto. Esto está desarrollado en una hoja de cálculo, en una matriz de objetivos vs. datos.\n",
    "\n",
    "https://docs.google.com/spreadsheets/d/1ccOxyOM_yctvpk4-CbpX4kCihNn1rX1QifKjbtov10s/edit?usp=sharing"
   ]
  },
  {
   "cell_type": "code",
   "execution_count": 11,
   "metadata": {},
   "outputs": [
    {
     "data": {
      "text/html": [
       "<div>\n",
       "<style scoped>\n",
       "    .dataframe tbody tr th:only-of-type {\n",
       "        vertical-align: middle;\n",
       "    }\n",
       "\n",
       "    .dataframe tbody tr th {\n",
       "        vertical-align: top;\n",
       "    }\n",
       "\n",
       "    .dataframe thead th {\n",
       "        text-align: right;\n",
       "    }\n",
       "</style>\n",
       "<table border=\"1\" class=\"dataframe\">\n",
       "  <thead>\n",
       "    <tr style=\"text-align: right;\">\n",
       "      <th></th>\n",
       "      <th>posted</th>\n",
       "      <th>item_id</th>\n",
       "      <th>recommend</th>\n",
       "      <th>review</th>\n",
       "    </tr>\n",
       "  </thead>\n",
       "  <tbody>\n",
       "    <tr>\n",
       "      <th>0</th>\n",
       "      <td>Posted November 5, 2011.</td>\n",
       "      <td>1250</td>\n",
       "      <td>True</td>\n",
       "      <td>Simple yet with great replayability. In my opi...</td>\n",
       "    </tr>\n",
       "    <tr>\n",
       "      <th>1</th>\n",
       "      <td>Posted July 15, 2011.</td>\n",
       "      <td>22200</td>\n",
       "      <td>True</td>\n",
       "      <td>It's unique and worth a playthrough.</td>\n",
       "    </tr>\n",
       "    <tr>\n",
       "      <th>2</th>\n",
       "      <td>Posted April 21, 2011.</td>\n",
       "      <td>43110</td>\n",
       "      <td>True</td>\n",
       "      <td>Great atmosphere. The gunplay can be a bit chu...</td>\n",
       "    </tr>\n",
       "    <tr>\n",
       "      <th>3</th>\n",
       "      <td>Posted June 24, 2014.</td>\n",
       "      <td>251610</td>\n",
       "      <td>True</td>\n",
       "      <td>I know what you think when you see this title ...</td>\n",
       "    </tr>\n",
       "    <tr>\n",
       "      <th>4</th>\n",
       "      <td>Posted September 8, 2013.</td>\n",
       "      <td>227300</td>\n",
       "      <td>True</td>\n",
       "      <td>For a simple (it's actually not all that simpl...</td>\n",
       "    </tr>\n",
       "  </tbody>\n",
       "</table>\n",
       "</div>"
      ],
      "text/plain": [
       "                      posted item_id recommend  \\\n",
       "0   Posted November 5, 2011.    1250      True   \n",
       "1      Posted July 15, 2011.   22200      True   \n",
       "2     Posted April 21, 2011.   43110      True   \n",
       "3      Posted June 24, 2014.  251610      True   \n",
       "4  Posted September 8, 2013.  227300      True   \n",
       "\n",
       "                                              review  \n",
       "0  Simple yet with great replayability. In my opi...  \n",
       "1               It's unique and worth a playthrough.  \n",
       "2  Great atmosphere. The gunplay can be a bit chu...  \n",
       "3  I know what you think when you see this title ...  \n",
       "4  For a simple (it's actually not all that simpl...  "
      ]
     },
     "execution_count": 11,
     "metadata": {},
     "output_type": "execute_result"
    }
   ],
   "source": [
    "from transform import limpiar\n",
    "\n",
    "limpiar.eliminar_columnas_innecesarias(\n",
    "    df,\n",
    "    [\n",
    "        \"user_id\",\n",
    "        \"user_url\",\n",
    "        \"funny\",\n",
    "        \"last_edited\",\n",
    "        \"helpful\",\n",
    "    ],\n",
    ")\n",
    "df.head()"
   ]
  },
  {
   "cell_type": "code",
   "execution_count": 10,
   "metadata": {},
   "outputs": [
    {
     "data": {
      "text/plain": [
       "59333"
      ]
     },
     "execution_count": 10,
     "metadata": {},
     "output_type": "execute_result"
    }
   ],
   "source": [
    "df.shape[0]"
   ]
  },
  {
   "cell_type": "markdown",
   "metadata": {},
   "source": [
    "Ahora, la cantidad de filas en el dataframe es de: 59333"
   ]
  },
  {
   "cell_type": "markdown",
   "metadata": {},
   "source": [
    "## Variables\n",
    "Las que utiliza este daframe son:\n",
    "\n",
    "### Variables temporales\n",
    "* posted - variable temporal\n",
    "\n",
    "### Variables categóricas\n",
    "* item_id - Es una variable categórica nominal (identificador)\n",
    "* recommend - variable categórica nominal\n",
    "* review - variable categóricas nominal"
   ]
  },
  {
   "cell_type": "markdown",
   "metadata": {},
   "source": [
    "## Manejando la columna \"posted\""
   ]
  },
  {
   "cell_type": "markdown",
   "metadata": {},
   "source": [
    "Cambiaremos el formato de la fecha en \"posted\""
   ]
  },
  {
   "cell_type": "code",
   "execution_count": 10,
   "metadata": {},
   "outputs": [],
   "source": [
    "from datetime import datetime\n",
    "\n",
    "fecha = \"Posted November 5, 2011.\"\n",
    "\n",
    "def formatear_fecha(fecha):\n",
    "    try :\n",
    "        fecha = datetime.strptime(str(fecha), \"Posted %B %d, %Y.\")\n",
    "    except Exception as Error:\n",
    "        None\n",
    "    return fecha\n",
    "\n",
    "df['posted'] = df['posted'].apply(formatear_fecha)"
   ]
  },
  {
   "cell_type": "markdown",
   "metadata": {},
   "source": [
    "Revisamos la cantidad de registros de fecha con un formato no válido."
   ]
  },
  {
   "cell_type": "code",
   "execution_count": 11,
   "metadata": {},
   "outputs": [
    {
     "name": "stdout",
     "output_type": "stream",
     "text": [
      "La cantidad de valores diferentes son: 262\n"
     ]
    },
    {
     "data": {
      "text/plain": [
       "{'Posted June 25.': 83,\n",
       " 'Posted January 5.': 81,\n",
       " 'Posted January 3.': 78,\n",
       " 'Posted August 12.': 72,\n",
       " 'Posted January 4.': 71,\n",
       " 'Posted June 24.': 67,\n",
       " 'Posted August 13.': 65,\n",
       " 'Posted February 5.': 65,\n",
       " 'Posted June 26.': 65,\n",
       " 'Posted January 1.': 64,\n",
       " 'Posted July 1.': 64,\n",
       " 'Posted July 4.': 63,\n",
       " 'Posted May 14.': 62,\n",
       " 'Posted January 2.': 61,\n",
       " 'Posted January 22.': 60,\n",
       " 'Posted July 3.': 60,\n",
       " 'Posted January 11.': 59,\n",
       " 'Posted January 10.': 59,\n",
       " 'Posted March 25.': 59,\n",
       " 'Posted July 8.': 58,\n",
       " 'Posted February 26.': 58,\n",
       " 'Posted January 23.': 58,\n",
       " 'Posted June 29.': 57,\n",
       " 'Posted January 16.': 57,\n",
       " 'Posted April 30.': 56,\n",
       " 'Posted July 28.': 56,\n",
       " 'Posted July 10.': 56,\n",
       " 'Posted March 11.': 55,\n",
       " 'Posted February 6.': 55,\n",
       " 'Posted April 12.': 54,\n",
       " 'Posted January 14.': 54,\n",
       " 'Posted May 28.': 54,\n",
       " 'Posted January 20.': 54,\n",
       " 'Posted January 30.': 54,\n",
       " 'Posted January 15.': 53,\n",
       " 'Posted June 27.': 53,\n",
       " 'Posted January 17.': 53,\n",
       " 'Posted September 2.': 53,\n",
       " 'Posted February 13.': 53,\n",
       " 'Posted January 21.': 52,\n",
       " 'Posted May 13.': 51,\n",
       " 'Posted January 24.': 51,\n",
       " 'Posted January 29.': 50,\n",
       " 'Posted March 27.': 50,\n",
       " 'Posted June 30.': 50,\n",
       " 'Posted March 22.': 50,\n",
       " 'Posted February 7.': 50,\n",
       " 'Posted August 28.': 49,\n",
       " 'Posted January 28.': 49,\n",
       " 'Posted February 20.': 49,\n",
       " 'Posted March 28.': 49,\n",
       " 'Posted August 27.': 49,\n",
       " 'Posted January 9.': 49,\n",
       " 'Posted February 12.': 49,\n",
       " 'Posted February 27.': 49,\n",
       " 'Posted April 16.': 48,\n",
       " 'Posted March 6.': 48,\n",
       " 'Posted June 23.': 48,\n",
       " 'Posted August 19.': 48,\n",
       " 'Posted January 6.': 48,\n",
       " 'Posted January 27.': 47,\n",
       " 'Posted January 7.': 47,\n",
       " 'Posted January 25.': 47,\n",
       " 'Posted April 17.': 46,\n",
       " 'Posted July 5.': 46,\n",
       " 'Posted August 29.': 46,\n",
       " 'Posted January 12.': 46,\n",
       " 'Posted June 28.': 46,\n",
       " 'Posted July 2.': 46,\n",
       " 'Posted February 9.': 46,\n",
       " 'Posted April 23.': 46,\n",
       " 'Posted January 8.': 45,\n",
       " 'Posted March 19.': 45,\n",
       " 'Posted August 17.': 45,\n",
       " 'Posted February 10.': 45,\n",
       " 'Posted March 10.': 45,\n",
       " 'Posted March 24.': 45,\n",
       " 'Posted April 9.': 45,\n",
       " 'Posted July 9.': 45,\n",
       " 'Posted January 13.': 45,\n",
       " 'Posted May 17.': 45,\n",
       " 'Posted May 15.': 45,\n",
       " 'Posted February 8.': 45,\n",
       " 'Posted January 19.': 44,\n",
       " 'Posted September 16.': 44,\n",
       " 'Posted March 5.': 44,\n",
       " 'Posted March 14.': 44,\n",
       " 'Posted February 19.': 44,\n",
       " 'Posted March 4.': 43,\n",
       " 'Posted April 24.': 43,\n",
       " 'Posted March 18.': 43,\n",
       " 'Posted February 16.': 43,\n",
       " 'Posted July 7.': 43,\n",
       " 'Posted January 26.': 43,\n",
       " 'Posted September 9.': 43,\n",
       " 'Posted February 24.': 42,\n",
       " 'Posted May 27.': 42,\n",
       " 'Posted July 18.': 42,\n",
       " 'Posted September 17.': 42,\n",
       " 'Posted June 14.': 42,\n",
       " 'Posted April 2.': 42,\n",
       " 'Posted April 20.': 42,\n",
       " 'Posted August 7.': 41,\n",
       " 'Posted March 29.': 41,\n",
       " 'Posted April 1.': 40,\n",
       " 'Posted July 12.': 40,\n",
       " 'Posted June 17.': 40,\n",
       " 'Posted February 1.': 39,\n",
       " 'Posted August 26.': 39,\n",
       " 'Posted May 7.': 39,\n",
       " 'Posted August 6.': 39,\n",
       " 'Posted July 23.': 39,\n",
       " 'Posted June 19.': 39,\n",
       " 'Posted January 18.': 39,\n",
       " 'Posted August 23.': 39,\n",
       " 'Posted June 4.': 39,\n",
       " 'Posted February 2.': 38,\n",
       " 'Posted July 29.': 38,\n",
       " 'Posted March 30.': 38,\n",
       " 'Posted June 3.': 38,\n",
       " 'Posted March 8.': 38,\n",
       " 'Posted July 6.': 38,\n",
       " 'Posted June 18.': 38,\n",
       " 'Posted April 19.': 37,\n",
       " 'Posted January 31.': 37,\n",
       " 'Posted August 20.': 37,\n",
       " 'Posted May 31.': 37,\n",
       " 'Posted March 13.': 37,\n",
       " 'Posted July 24.': 37,\n",
       " 'Posted April 8.': 36,\n",
       " 'Posted March 20.': 36,\n",
       " 'Posted March 23.': 36,\n",
       " 'Posted February 21.': 36,\n",
       " 'Posted September 3.': 36,\n",
       " 'Posted April 11.': 36,\n",
       " 'Posted March 12.': 36,\n",
       " 'Posted July 25.': 36,\n",
       " 'Posted April 3.': 35,\n",
       " 'Posted June 10.': 35,\n",
       " 'Posted April 29.': 35,\n",
       " 'Posted February 4.': 35,\n",
       " 'Posted June 11.': 35,\n",
       " 'Posted April 26.': 35,\n",
       " 'Posted March 3.': 35,\n",
       " 'Posted July 13.': 35,\n",
       " 'Posted August 25.': 35,\n",
       " 'Posted May 24.': 35,\n",
       " 'Posted July 14.': 35,\n",
       " 'Posted April 21.': 35,\n",
       " 'Posted April 18.': 35,\n",
       " 'Posted February 17.': 35,\n",
       " 'Posted May 1.': 34,\n",
       " 'Posted August 9.': 34,\n",
       " 'Posted April 14.': 34,\n",
       " 'Posted July 15.': 34,\n",
       " 'Posted May 20.': 34,\n",
       " 'Posted June 15.': 34,\n",
       " 'Posted February 18.': 34,\n",
       " 'Posted February 11.': 34,\n",
       " 'Posted April 28.': 33,\n",
       " 'Posted June 16.': 33,\n",
       " 'Posted September 11.': 33,\n",
       " 'Posted July 31.': 33,\n",
       " 'Posted June 1.': 33,\n",
       " 'Posted March 26.': 33,\n",
       " 'Posted July 22.': 33,\n",
       " 'Posted August 24.': 33,\n",
       " 'Posted August 16.': 33,\n",
       " 'Posted July 16.': 33,\n",
       " 'Posted July 20.': 33,\n",
       " 'Posted March 16.': 33,\n",
       " 'Posted April 5.': 33,\n",
       " 'Posted May 8.': 32,\n",
       " 'Posted June 2.': 32,\n",
       " 'Posted April 15.': 32,\n",
       " 'Posted February 28.': 32,\n",
       " 'Posted June 21.': 32,\n",
       " 'Posted March 1.': 32,\n",
       " 'Posted February 22.': 32,\n",
       " 'Posted March 21.': 32,\n",
       " 'Posted May 22.': 32,\n",
       " 'Posted April 13.': 32,\n",
       " 'Posted May 23.': 32,\n",
       " 'Posted May 6.': 32,\n",
       " 'Posted May 3.': 32,\n",
       " 'Posted February 23.': 32,\n",
       " 'Posted March 7.': 31,\n",
       " 'Posted August 21.': 31,\n",
       " 'Posted July 30.': 31,\n",
       " 'Posted May 16.': 31,\n",
       " 'Posted February 25.': 31,\n",
       " 'Posted July 21.': 31,\n",
       " 'Posted April 25.': 31,\n",
       " 'Posted March 31.': 31,\n",
       " 'Posted May 30.': 31,\n",
       " 'Posted February 3.': 30,\n",
       " 'Posted May 12.': 30,\n",
       " 'Posted February 15.': 30,\n",
       " 'Posted June 12.': 30,\n",
       " 'Posted July 11.': 30,\n",
       " 'Posted August 5.': 30,\n",
       " 'Posted August 31.': 30,\n",
       " 'Posted February 14.': 30,\n",
       " 'Posted April 22.': 29,\n",
       " 'Posted August 18.': 29,\n",
       " 'Posted April 4.': 29,\n",
       " 'Posted April 6.': 29,\n",
       " 'Posted April 27.': 29,\n",
       " 'Posted June 22.': 29,\n",
       " 'Posted March 17.': 29,\n",
       " 'Posted August 30.': 29,\n",
       " 'Posted May 29.': 29,\n",
       " 'Posted June 5.': 28,\n",
       " 'Posted May 5.': 27,\n",
       " 'Posted April 7.': 27,\n",
       " 'Posted September 15.': 27,\n",
       " 'Posted August 14.': 27,\n",
       " 'Posted May 21.': 27,\n",
       " 'Posted June 6.': 26,\n",
       " 'Posted March 15.': 26,\n",
       " 'Posted March 2.': 26,\n",
       " 'Posted May 9.': 25,\n",
       " 'Posted May 2.': 25,\n",
       " 'Posted May 10.': 25,\n",
       " 'Posted February 29.': 25,\n",
       " 'Posted May 18.': 25,\n",
       " 'Posted September 10.': 25,\n",
       " 'Posted May 25.': 25,\n",
       " 'Posted July 17.': 25,\n",
       " 'Posted August 2.': 24,\n",
       " 'Posted August 15.': 24,\n",
       " 'Posted April 10.': 23,\n",
       " 'Posted June 7.': 23,\n",
       " 'Posted June 20.': 23,\n",
       " 'Posted September 7.': 23,\n",
       " 'Posted July 26.': 22,\n",
       " 'Posted August 22.': 22,\n",
       " 'Posted September 8.': 22,\n",
       " 'Posted September 12.': 22,\n",
       " 'Posted July 27.': 22,\n",
       " 'Posted March 9.': 22,\n",
       " 'Posted September 18.': 22,\n",
       " 'Posted July 19.': 22,\n",
       " 'Posted June 9.': 22,\n",
       " 'Posted June 13.': 22,\n",
       " 'Posted September 5.': 22,\n",
       " 'Posted September 1.': 21,\n",
       " 'Posted September 4.': 21,\n",
       " 'Posted August 8.': 20,\n",
       " 'Posted May 4.': 20,\n",
       " 'Posted August 3.': 20,\n",
       " 'Posted May 11.': 20,\n",
       " 'Posted May 26.': 20,\n",
       " 'Posted May 19.': 19,\n",
       " 'Posted June 8.': 19,\n",
       " 'Posted August 4.': 19,\n",
       " 'Posted August 11.': 19,\n",
       " 'Posted August 1.': 17,\n",
       " 'Posted September 6.': 17,\n",
       " 'Posted August 10.': 15,\n",
       " 'Posted September 14.': 12,\n",
       " 'Posted September 13.': 10}"
      ]
     },
     "execution_count": 11,
     "metadata": {},
     "output_type": "execute_result"
    }
   ],
   "source": [
    "df_copy = df.copy()\n",
    "\n",
    "from datetime import datetime\n",
    "\n",
    "df_copy = df_copy[df_copy[\"posted\"].apply(lambda x: not isinstance(x, datetime))]\n",
    "\n",
    "conteo_por_valor = df_copy[\"posted\"].value_counts().to_dict()\n",
    "\n",
    "print(f\"La cantidad de valores diferentes son: {len(conteo_por_valor)}\")\n",
    "df_copy[\"posted\"].value_counts().to_dict()"
   ]
  },
  {
   "cell_type": "markdown",
   "metadata": {},
   "source": [
    "Debería continuar analizando los valores de esta columna, pero no dejaré. No son demasiados registros."
   ]
  },
  {
   "cell_type": "markdown",
   "metadata": {},
   "source": [
    "Los registros que no son validos los reemplazo por NaT"
   ]
  },
  {
   "cell_type": "code",
   "execution_count": 12,
   "metadata": {},
   "outputs": [],
   "source": [
    "from datetime import datetime\n",
    "\n",
    "def reemplazar_fechas_no_validas_por_NaT(x):\n",
    "    return float('nan') if not isinstance(x, datetime) else x\n",
    "\n",
    "df[\"posted\"] = df[\"posted\"].apply(lambda x: reemplazar_fechas_no_validas_por_NaT(x))"
   ]
  },
  {
   "cell_type": "markdown",
   "metadata": {},
   "source": [
    "Verifico la cantidad de registros en \"posted\" no válidos."
   ]
  },
  {
   "cell_type": "code",
   "execution_count": 13,
   "metadata": {},
   "outputs": [
    {
     "name": "stdout",
     "output_type": "stream",
     "text": [
      "La cantidad de valores no validos para fecha, diferentes entre si, son: 0\n"
     ]
    },
    {
     "data": {
      "text/plain": [
       "{}"
      ]
     },
     "execution_count": 13,
     "metadata": {},
     "output_type": "execute_result"
    }
   ],
   "source": [
    "df_copy = df.copy()\n",
    "\n",
    "from datetime import datetime\n",
    "\n",
    "df_copy = df_copy[df_copy[\"posted\"].apply(lambda x: not isinstance(x, datetime))]\n",
    "\n",
    "conteo_por_valor = df_copy[\"posted\"].value_counts().to_dict()\n",
    "\n",
    "print(f\"La cantidad de valores no validos para fecha, diferentes entre si, son: {len(conteo_por_valor)}\")\n",
    "df_copy[\"posted\"].value_counts().to_dict()"
   ]
  },
  {
   "cell_type": "markdown",
   "metadata": {},
   "source": [
    "## Manejando la columna \"review\""
   ]
  },
  {
   "cell_type": "markdown",
   "metadata": {},
   "source": [
    "Primero, reviso los valores diferentes a \"str\" en la columna."
   ]
  },
  {
   "cell_type": "code",
   "execution_count": 8,
   "metadata": {},
   "outputs": [
    {
     "name": "stdout",
     "output_type": "stream",
     "text": [
      "posted - {<class 'str'>, <class 'float'>}\n",
      "item_id - {<class 'str'>, <class 'float'>}\n",
      "recommend - {<class 'bool'>, <class 'float'>}\n",
      "review - {<class 'str'>, <class 'float'>}\n"
     ]
    }
   ],
   "source": [
    "from transform import info\n",
    "info.mostrar_info_key_types(df)"
   ]
  },
  {
   "cell_type": "code",
   "execution_count": 14,
   "metadata": {},
   "outputs": [
    {
     "name": "stdout",
     "output_type": "stream",
     "text": [
      "La cantidad de valores no validos, diferentes entre si, son: 0\n"
     ]
    },
    {
     "data": {
      "text/plain": [
       "{}"
      ]
     },
     "execution_count": 14,
     "metadata": {},
     "output_type": "execute_result"
    }
   ],
   "source": [
    "df_copy = df.copy()\n",
    "\n",
    "column = \"review\"\n",
    "tod = str\n",
    "\n",
    "df_copy = df_copy[df_copy[column].apply(lambda x: not isinstance(x, tod))]\n",
    "\n",
    "conteo_por_valor = df_copy[column].value_counts().to_dict()\n",
    "\n",
    "print(f\"La cantidad de valores no validos, diferentes entre si, son: {len(conteo_por_valor)}\")\n",
    "df_copy[column].value_counts().to_dict()"
   ]
  },
  {
   "cell_type": "markdown",
   "metadata": {},
   "source": [
    "Como la cantidad de valores no validos, diferentes entre si, es 0. Eso me inidca que los valores de tipo \"float\" que aparecen al momento de listar los tipos de dato en cada columna, son los registros nulos."
   ]
  },
  {
   "cell_type": "markdown",
   "metadata": {},
   "source": [
    "Ahora, se requiere cambiar el contenido de la columna \"review\" a valores que simplificanran saber si es un comentario positivo, negativo o neutro."
   ]
  },
  {
   "cell_type": "code",
   "execution_count": 15,
   "metadata": {},
   "outputs": [
    {
     "data": {
      "text/html": [
       "<div>\n",
       "<style scoped>\n",
       "    .dataframe tbody tr th:only-of-type {\n",
       "        vertical-align: middle;\n",
       "    }\n",
       "\n",
       "    .dataframe tbody tr th {\n",
       "        vertical-align: top;\n",
       "    }\n",
       "\n",
       "    .dataframe thead th {\n",
       "        text-align: right;\n",
       "    }\n",
       "</style>\n",
       "<table border=\"1\" class=\"dataframe\">\n",
       "  <thead>\n",
       "    <tr style=\"text-align: right;\">\n",
       "      <th></th>\n",
       "      <th>posted</th>\n",
       "      <th>item_id</th>\n",
       "      <th>recommend</th>\n",
       "      <th>review</th>\n",
       "    </tr>\n",
       "  </thead>\n",
       "  <tbody>\n",
       "    <tr>\n",
       "      <th>0</th>\n",
       "      <td>2011-11-05</td>\n",
       "      <td>1250</td>\n",
       "      <td>True</td>\n",
       "      <td>1</td>\n",
       "    </tr>\n",
       "    <tr>\n",
       "      <th>1</th>\n",
       "      <td>2011-07-15</td>\n",
       "      <td>22200</td>\n",
       "      <td>True</td>\n",
       "      <td>1</td>\n",
       "    </tr>\n",
       "    <tr>\n",
       "      <th>2</th>\n",
       "      <td>2011-04-21</td>\n",
       "      <td>43110</td>\n",
       "      <td>True</td>\n",
       "      <td>1</td>\n",
       "    </tr>\n",
       "    <tr>\n",
       "      <th>3</th>\n",
       "      <td>2014-06-24</td>\n",
       "      <td>251610</td>\n",
       "      <td>True</td>\n",
       "      <td>1</td>\n",
       "    </tr>\n",
       "    <tr>\n",
       "      <th>4</th>\n",
       "      <td>2013-09-08</td>\n",
       "      <td>227300</td>\n",
       "      <td>True</td>\n",
       "      <td>-1</td>\n",
       "    </tr>\n",
       "  </tbody>\n",
       "</table>\n",
       "</div>"
      ],
      "text/plain": [
       "      posted item_id recommend  review\n",
       "0 2011-11-05    1250      True       1\n",
       "1 2011-07-15   22200      True       1\n",
       "2 2011-04-21   43110      True       1\n",
       "3 2014-06-24  251610      True       1\n",
       "4 2013-09-08  227300      True      -1"
      ]
     },
     "execution_count": 15,
     "metadata": {},
     "output_type": "execute_result"
    }
   ],
   "source": [
    "from textblob import TextBlob\n",
    "\n",
    "def evaluar_review(x):\n",
    "    if not isinstance(x, str):\n",
    "        return 0\n",
    "    else:\n",
    "        sentiment = TextBlob(x)\n",
    "        if sentiment.polarity > 0:\n",
    "            return 1\n",
    "        elif sentiment.polarity < 0:\n",
    "            return -1\n",
    "        else:\n",
    "            return 0\n",
    "df[\"review\"] = df[\"review\"].apply(lambda x: evaluar_review(x))\n",
    "\n",
    "df.head()"
   ]
  },
  {
   "cell_type": "markdown",
   "metadata": {},
   "source": [
    "## Limpieza"
   ]
  },
  {
   "cell_type": "markdown",
   "metadata": {},
   "source": [
    "Revisando la cantidad de celdas vacias por columna."
   ]
  },
  {
   "cell_type": "code",
   "execution_count": 16,
   "metadata": {},
   "outputs": [
    {
     "data": {
      "text/html": [
       "<div>\n",
       "<style scoped>\n",
       "    .dataframe tbody tr th:only-of-type {\n",
       "        vertical-align: middle;\n",
       "    }\n",
       "\n",
       "    .dataframe tbody tr th {\n",
       "        vertical-align: top;\n",
       "    }\n",
       "\n",
       "    .dataframe thead th {\n",
       "        text-align: right;\n",
       "    }\n",
       "</style>\n",
       "<table border=\"1\" class=\"dataframe\">\n",
       "  <thead>\n",
       "    <tr style=\"text-align: right;\">\n",
       "      <th></th>\n",
       "      <th>Cantidad</th>\n",
       "      <th>Porcentaje</th>\n",
       "    </tr>\n",
       "  </thead>\n",
       "  <tbody>\n",
       "    <tr>\n",
       "      <th>posted</th>\n",
       "      <td>10147</td>\n",
       "      <td>0.171018</td>\n",
       "    </tr>\n",
       "    <tr>\n",
       "      <th>item_id</th>\n",
       "      <td>28</td>\n",
       "      <td>0.000472</td>\n",
       "    </tr>\n",
       "    <tr>\n",
       "      <th>recommend</th>\n",
       "      <td>28</td>\n",
       "      <td>0.000472</td>\n",
       "    </tr>\n",
       "    <tr>\n",
       "      <th>review</th>\n",
       "      <td>0</td>\n",
       "      <td>0.000000</td>\n",
       "    </tr>\n",
       "  </tbody>\n",
       "</table>\n",
       "</div>"
      ],
      "text/plain": [
       "           Cantidad  Porcentaje\n",
       "posted        10147    0.171018\n",
       "item_id          28    0.000472\n",
       "recommend        28    0.000472\n",
       "review            0    0.000000"
      ]
     },
     "execution_count": 16,
     "metadata": {},
     "output_type": "execute_result"
    }
   ],
   "source": [
    "from transform import info\n",
    "\n",
    "info.celdas_vacias(df)"
   ]
  },
  {
   "cell_type": "markdown",
   "metadata": {},
   "source": [
    "Como la columna \"item_id\" es un identificador, no deberia tener valores nulos"
   ]
  },
  {
   "cell_type": "code",
   "execution_count": 17,
   "metadata": {},
   "outputs": [
    {
     "name": "stdout",
     "output_type": "stream",
     "text": [
      "la cantidad de filas en el dataframe es: 59333\n",
      "despues de eliminar las filas vacias es: 59333\n"
     ]
    }
   ],
   "source": [
    "from transform import limpiar\n",
    "\n",
    "limpiar.eliminar_filas_por_celdas_vacias_en(df, [\"item_id\"])"
   ]
  },
  {
   "cell_type": "code",
   "execution_count": null,
   "metadata": {},
   "outputs": [],
   "source": [
    "from transform import limpiar\n",
    "\n",
    "limpiar.eliminar_filas_vacias(df)"
   ]
  },
  {
   "cell_type": "code",
   "execution_count": 18,
   "metadata": {},
   "outputs": [
    {
     "name": "stdout",
     "output_type": "stream",
     "text": [
      "la cantidad de filas en el dataframe es: 59333\n",
      "despues de eliminar las filas repetidas es: 44301\n"
     ]
    },
    {
     "data": {
      "text/html": [
       "<div>\n",
       "<style scoped>\n",
       "    .dataframe tbody tr th:only-of-type {\n",
       "        vertical-align: middle;\n",
       "    }\n",
       "\n",
       "    .dataframe tbody tr th {\n",
       "        vertical-align: top;\n",
       "    }\n",
       "\n",
       "    .dataframe thead th {\n",
       "        text-align: right;\n",
       "    }\n",
       "</style>\n",
       "<table border=\"1\" class=\"dataframe\">\n",
       "  <thead>\n",
       "    <tr style=\"text-align: right;\">\n",
       "      <th></th>\n",
       "      <th>posted</th>\n",
       "      <th>item_id</th>\n",
       "      <th>recommend</th>\n",
       "      <th>review</th>\n",
       "    </tr>\n",
       "  </thead>\n",
       "  <tbody>\n",
       "    <tr>\n",
       "      <th>0</th>\n",
       "      <td>2011-11-05</td>\n",
       "      <td>1250</td>\n",
       "      <td>True</td>\n",
       "      <td>1</td>\n",
       "    </tr>\n",
       "    <tr>\n",
       "      <th>1</th>\n",
       "      <td>2011-07-15</td>\n",
       "      <td>22200</td>\n",
       "      <td>True</td>\n",
       "      <td>1</td>\n",
       "    </tr>\n",
       "    <tr>\n",
       "      <th>2</th>\n",
       "      <td>2011-04-21</td>\n",
       "      <td>43110</td>\n",
       "      <td>True</td>\n",
       "      <td>1</td>\n",
       "    </tr>\n",
       "    <tr>\n",
       "      <th>3</th>\n",
       "      <td>2014-06-24</td>\n",
       "      <td>251610</td>\n",
       "      <td>True</td>\n",
       "      <td>1</td>\n",
       "    </tr>\n",
       "    <tr>\n",
       "      <th>4</th>\n",
       "      <td>2013-09-08</td>\n",
       "      <td>227300</td>\n",
       "      <td>True</td>\n",
       "      <td>-1</td>\n",
       "    </tr>\n",
       "    <tr>\n",
       "      <th>...</th>\n",
       "      <td>...</td>\n",
       "      <td>...</td>\n",
       "      <td>...</td>\n",
       "      <td>...</td>\n",
       "    </tr>\n",
       "    <tr>\n",
       "      <th>59305</th>\n",
       "      <td>NaT</td>\n",
       "      <td>282660</td>\n",
       "      <td>True</td>\n",
       "      <td>1</td>\n",
       "    </tr>\n",
       "    <tr>\n",
       "      <th>59309</th>\n",
       "      <td>NaT</td>\n",
       "      <td>220090</td>\n",
       "      <td>True</td>\n",
       "      <td>-1</td>\n",
       "    </tr>\n",
       "    <tr>\n",
       "      <th>59310</th>\n",
       "      <td>NaT</td>\n",
       "      <td>262850</td>\n",
       "      <td>True</td>\n",
       "      <td>-1</td>\n",
       "    </tr>\n",
       "    <tr>\n",
       "      <th>59313</th>\n",
       "      <td>NaT</td>\n",
       "      <td>298110</td>\n",
       "      <td>False</td>\n",
       "      <td>0</td>\n",
       "    </tr>\n",
       "    <tr>\n",
       "      <th>59314</th>\n",
       "      <td>NaT</td>\n",
       "      <td>431510</td>\n",
       "      <td>True</td>\n",
       "      <td>1</td>\n",
       "    </tr>\n",
       "  </tbody>\n",
       "</table>\n",
       "<p>44301 rows × 4 columns</p>\n",
       "</div>"
      ],
      "text/plain": [
       "          posted item_id recommend  review\n",
       "0     2011-11-05    1250      True       1\n",
       "1     2011-07-15   22200      True       1\n",
       "2     2011-04-21   43110      True       1\n",
       "3     2014-06-24  251610      True       1\n",
       "4     2013-09-08  227300      True      -1\n",
       "...          ...     ...       ...     ...\n",
       "59305        NaT  282660      True       1\n",
       "59309        NaT  220090      True      -1\n",
       "59310        NaT  262850      True      -1\n",
       "59313        NaT  298110     False       0\n",
       "59314        NaT  431510      True       1\n",
       "\n",
       "[44301 rows x 4 columns]"
      ]
     },
     "execution_count": 18,
     "metadata": {},
     "output_type": "execute_result"
    }
   ],
   "source": [
    "from transform import limpiar\n",
    "\n",
    "df = limpiar.eliminar_filas_duplicadas(df)"
   ]
  },
  {
   "cell_type": "markdown",
   "metadata": {},
   "source": [
    "Volvemos a revisar las celdas vacias"
   ]
  },
  {
   "cell_type": "code",
   "execution_count": null,
   "metadata": {},
   "outputs": [],
   "source": [
    "from transform import info\n",
    "\n",
    "info.celdas_vacias(df)"
   ]
  },
  {
   "cell_type": "code",
   "execution_count": 12,
   "metadata": {},
   "outputs": [
    {
     "data": {
      "text/plain": [
       "59333"
      ]
     },
     "execution_count": 12,
     "metadata": {},
     "output_type": "execute_result"
    }
   ],
   "source": [
    "df.shape[0]"
   ]
  },
  {
   "cell_type": "markdown",
   "metadata": {},
   "source": [
    "Ahora, la cantidad de filas en el dataframe es de: "
   ]
  },
  {
   "cell_type": "markdown",
   "metadata": {},
   "source": [
    "## Load"
   ]
  },
  {
   "cell_type": "code",
   "execution_count": 13,
   "metadata": {},
   "outputs": [],
   "source": [
    "df.to_parquet(\"../data/intermediate/users_reviews.parquet\")"
   ]
  }
 ],
 "metadata": {
  "kernelspec": {
   "display_name": "Python 3",
   "language": "python",
   "name": "python3"
  },
  "language_info": {
   "codemirror_mode": {
    "name": "ipython",
    "version": 3
   },
   "file_extension": ".py",
   "mimetype": "text/x-python",
   "name": "python",
   "nbconvert_exporter": "python",
   "pygments_lexer": "ipython3",
   "version": "3.11.6"
  }
 },
 "nbformat": 4,
 "nbformat_minor": 2
}
